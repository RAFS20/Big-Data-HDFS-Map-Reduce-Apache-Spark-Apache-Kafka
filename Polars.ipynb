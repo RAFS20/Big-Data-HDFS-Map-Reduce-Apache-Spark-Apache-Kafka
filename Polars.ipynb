{
  "cells": [
    {
      "cell_type": "markdown",
      "metadata": {
        "id": "view-in-github",
        "colab_type": "text"
      },
      "source": [
        "<a href=\"https://colab.research.google.com/github/RAFS20/Big-Data-HDFS-Map-Reduce-Apache-Spark-Apache-Kafka/blob/main/Polars.ipynb\" target=\"_parent\"><img src=\"https://colab.research.google.com/assets/colab-badge.svg\" alt=\"Open In Colab\"/></a>"
      ]
    },
    {
      "cell_type": "code",
      "execution_count": null,
      "metadata": {
        "colab": {
          "base_uri": "https://localhost:8080/"
        },
        "id": "XjJLj8ShdnqB",
        "outputId": "ccbc5837-1ed0-4ded-e08d-90b20ed4aeec"
      },
      "outputs": [
        {
          "name": "stdout",
          "output_type": "stream",
          "text": [
            "Requirement already satisfied: polars in /usr/local/lib/python3.10/dist-packages (0.20.2)\n"
          ]
        }
      ],
      "source": [
        "pip install polars pyspark"
      ]
    },
    {
      "cell_type": "code",
      "source": [
        "from pyspark.sql import SparkSession\n",
        "from pyspark.sql.functions import mean, stddev\n",
        "import pandas as pd\n",
        "import polars as pl\n",
        "import dask.dataframe as dd\n",
        "import numpy as np\n",
        "import time\n",
        "\n",
        "# Configuración de Spark\n",
        "spark = SparkSession.builder.appName(\"Comparativa\").getOrCreate()\n",
        "\n",
        "# Simulación de datos\n",
        "np.random.seed(0)\n",
        "data = np.random.rand(10_000_000)\n",
        "pdf = pd.DataFrame({'data': data})\n",
        "\n",
        "# DataFrame de Spark\n",
        "sdf = spark.createDataFrame(pdf)\n",
        "\n",
        "# Dask\n",
        "ddf = dd.from_pandas(pdf, npartitions=10)\n",
        "\n",
        "# Polars\n",
        "pl_df = pl.DataFrame({'data': data})\n",
        "\n",
        "# Tiempos de ejecución y estadísticas\n",
        "times = {}\n",
        "\n",
        "# Operaciones con PySpark\n",
        "start_time_spark = time.time()\n",
        "mean_val_spark = sdf.select(mean('data')).collect()[0][0]\n",
        "median_val_spark = sdf.approxQuantile('data', [0.5], 0.01)[0]  # Aproximado\n",
        "std_dev_spark = sdf.select(stddev('data')).collect()[0][0]\n",
        "times['PySpark'] = time.time() - start_time_spark, mean_val_spark, median_val_spark, std_dev_spark\n",
        "\n",
        "# Tiempo Dask\n",
        "start_time_dask = time.time()\n",
        "mean_val_dask = ddf['data'].mean().compute()\n",
        "median_val_dask = ddf['data'].quantile(0.5).compute()\n",
        "std_dev_dask = ddf['data'].std().compute()\n",
        "times['Dask'] = time.time() - start_time_dask, mean_val_dask, median_val_dask, std_dev_dask\n",
        "\n",
        "# Tiempo Polars\n",
        "start_time_pl = time.time()\n",
        "mean_val_pl = pl_df.select(pl.mean('data')).to_numpy()[0][0]\n",
        "median_val_pl = pl_df.select(pl.median('data')).to_numpy()[0][0]\n",
        "std_dev_pl = pl_df.select(pl.std('data')).to_numpy()[0][0]\n",
        "times['Polars'] = time.time() - start_time_pl, mean_val_pl, median_val_pl, std_dev_pl\n",
        "\n",
        "# Tiempo pandas\n",
        "start_time_pd = time.time()\n",
        "mean_val_pd = pdf['data'].mean()\n",
        "median_val_pd = pdf['data'].median()\n",
        "std_dev_pd = pdf['data'].std()\n",
        "times['pandas'] = time.time() - start_time_pd, mean_val_pd, median_val_pd, std_dev_pd\n",
        "\n",
        "# Tiempo NumPy\n",
        "start_time_np = time.time()\n",
        "mean_val_np = np.mean(data)\n",
        "median_val_np = np.median(data)\n",
        "std_dev_np = np.std(data)\n",
        "times['NumPy'] = time.time() - start_time_np, mean_val_np, median_val_np, std_dev_np\n",
        "\n",
        "# Calcular la herramienta más rápida\n",
        "fastest_tool = min(times, key=lambda x: times[x][0])\n",
        "fastest_time = times[fastest_tool][0]\n",
        "\n",
        "# Calcular cuántas veces es más rápida la herramienta más rápida que las demás\n",
        "speedups = {tool: fastest_time / time_taken[0] for tool, time_taken in times.items()}\n",
        "\n",
        "# Imprimir resultados\n",
        "print(\"Tiempos de ejecución y estadísticas:\")\n",
        "for tool, (time_taken, mean_val, median_val, std_dev) in times.items():\n",
        "    print(f\"{tool}: Tiempo: {time_taken:.4f} segundos, Media: {mean_val:.6f}, Mediana: {median_val:.6f}, Desv. Est.: {std_dev:.6f}\")\n",
        "\n",
        "print(f\"\\nLa herramienta más rápida fue {fastest_tool} con {fastest_time:.4f} segundos.\")"
      ],
      "metadata": {
        "colab": {
          "base_uri": "https://localhost:8080/"
        },
        "id": "Me8YErSBp1cT",
        "outputId": "f2ba51bb-7e90-4e52-dd39-1056768b39c4"
      },
      "execution_count": 31,
      "outputs": [
        {
          "output_type": "stream",
          "name": "stdout",
          "text": [
            "Tiempos de ejecución y estadísticas:\n",
            "PySpark: Tiempo: 20.8950 segundos, Media: 0.500000, Mediana: 0.501756, Desv. Est.: 0.288672\n",
            "Dask: Tiempo: 0.2304 segundos, Media: 0.500000, Mediana: 0.500894, Desv. Est.: 0.288672\n",
            "Polars: Tiempo: 0.1467 segundos, Media: 0.500000, Mediana: 0.500186, Desv. Est.: 0.288672\n",
            "pandas: Tiempo: 0.2322 segundos, Media: 0.500000, Mediana: 0.500186, Desv. Est.: 0.288672\n",
            "NumPy: Tiempo: 0.1328 segundos, Media: 0.500000, Mediana: 0.500186, Desv. Est.: 0.288672\n",
            "\n",
            "La herramienta más rápida fue NumPy con 0.1328 segundos.\n"
          ]
        }
      ]
    },
    {
      "cell_type": "code",
      "execution_count": null,
      "metadata": {
        "colab": {
          "base_uri": "https://localhost:8080/"
        },
        "id": "7VznrnQpgH6L",
        "outputId": "f37c3be1-059a-4eaa-8a3e-d0e3731f5ea1"
      },
      "outputs": [
        {
          "name": "stdout",
          "output_type": "stream",
          "text": [
            "shape: (1_000, 6)\n",
            "┌──────────┬──────────┬───────────┬────────────┬────────────┬──────┐\n",
            "│ Category ┆ Num1     ┆ Num2      ┆ Num3       ┆ Num4       ┆ Num5 │\n",
            "│ ---      ┆ ---      ┆ ---       ┆ ---        ┆ ---        ┆ ---  │\n",
            "│ str      ┆ f64      ┆ f64       ┆ f64        ┆ f64        ┆ i64  │\n",
            "╞══════════╪══════════╪═══════════╪════════════╪════════════╪══════╡\n",
            "│ A        ┆ 0.310381 ┆ 44.679332 ┆ -21.554817 ┆ 829.835334 ┆ 0    │\n",
            "│ D        ┆ 0.373035 ┆ 83.699037 ┆ 28.637568  ┆ 941.682333 ┆ 6    │\n",
            "│ B        ┆ 0.52497  ┆ 22.182403 ┆ 33.877852  ┆ 395.183827 ┆ 79   │\n",
            "│ A        ┆ 0.750595 ┆ 49.394526 ┆ 65.359192  ┆ 904.131051 ┆ 21   │\n",
            "│ …        ┆ …        ┆ …         ┆ …          ┆ …          ┆ …    │\n",
            "│ A        ┆ 0.193623 ┆ 70.233914 ┆ 7.664423   ┆ 204.282922 ┆ 36   │\n",
            "│ C        ┆ 0.11225  ┆ 72.433098 ┆ 34.706435  ┆ 569.306033 ┆ 67   │\n",
            "│ B        ┆ 0.042364 ┆ 19.157101 ┆ -16.436385 ┆ 752.366306 ┆ 5    │\n",
            "│ A        ┆ 0.227741 ┆ 66.217423 ┆ 33.198254  ┆ 694.951688 ┆ 60   │\n",
            "└──────────┴──────────┴───────────┴────────────┴────────────┴──────┘\n"
          ]
        }
      ],
      "source": [
        "import pandas as pd\n",
        "import numpy as np\n",
        "import polars as pl\n",
        "\n",
        "# Configuración para la generación de datos\n",
        "num_rows = 1000\n",
        "categories = ['A', 'B', 'C', 'D']\n",
        "\n",
        "# Generar datos simulados\n",
        "np.random.seed(0)  # Para reproducibilidad\n",
        "df = pd.DataFrame({\n",
        "    'Category': np.random.choice(categories, num_rows),\n",
        "    'Num1': np.random.rand(num_rows),\n",
        "    'Num2': np.random.rand(num_rows) * 100,\n",
        "    'Num3': np.random.randn(num_rows) * 50,\n",
        "    'Num4': np.random.rand(num_rows) * 1000,\n",
        "    'Num5': np.random.randint(0, 100, num_rows)\n",
        "})\n",
        "\n",
        "# Escribir los datos a un archivo .csv\n",
        "csv_file_path = 'simulated_data.csv'\n",
        "df.to_csv(csv_file_path, index=False)\n",
        "\n",
        "# Leer el archivo .csv con Polars\n",
        "df_polars = pl.read_csv(csv_file_path)\n",
        "\n",
        "# Mostrar el DataFrame de Polars\n",
        "print(df_polars)"
      ]
    },
    {
      "cell_type": "code",
      "execution_count": null,
      "metadata": {
        "colab": {
          "base_uri": "https://localhost:8080/"
        },
        "id": "dwM8yHnTj3FD",
        "outputId": "db5f8d37-6b95-4eb9-b7d3-aba13b60be02"
      },
      "outputs": [
        {
          "name": "stdout",
          "output_type": "stream",
          "text": [
            "Requirement already satisfied: sqlalchemy in /usr/local/lib/python3.10/dist-packages (2.0.28)\n",
            "Requirement already satisfied: connectorx in /usr/local/lib/python3.10/dist-packages (0.3.2)\n",
            "Requirement already satisfied: polars in /usr/local/lib/python3.10/dist-packages (0.20.2)\n",
            "Requirement already satisfied: adbc-driver-sqlite in /usr/local/lib/python3.10/dist-packages (0.10.0)\n",
            "Requirement already satisfied: typing-extensions>=4.6.0 in /usr/local/lib/python3.10/dist-packages (from sqlalchemy) (4.10.0)\n",
            "Requirement already satisfied: greenlet!=0.4.17 in /usr/local/lib/python3.10/dist-packages (from sqlalchemy) (3.0.3)\n",
            "Requirement already satisfied: adbc-driver-manager in /usr/local/lib/python3.10/dist-packages (from adbc-driver-sqlite) (0.10.0)\n"
          ]
        }
      ],
      "source": [
        "pip install sqlalchemy connectorx polars adbc-driver-sqlite"
      ]
    },
    {
      "cell_type": "code",
      "execution_count": 34,
      "metadata": {
        "id": "1H59JUCCgu3-"
      },
      "outputs": [],
      "source": [
        "import sqlite3\n",
        "import numpy as np\n",
        "import pandas as pd\n",
        "\n",
        "# Conexión (o creación si no existe) a la base de datos SQLite\n",
        "conn = sqlite3.connect('test.db')\n",
        "\n",
        "# Generar datos simulados\n",
        "np.random.seed(0)  # Para reproducibilidad\n",
        "num_rows = 1000\n",
        "categories = ['A', 'B', 'C', 'D']  # Datos categóricos\n",
        "data = {\n",
        "    'Category': np.random.choice(categories, num_rows),\n",
        "    'Num1': np.random.rand(num_rows),  # Distribución uniforme\n",
        "    'Num2': np.random.randn(num_rows) * 10 + 50,  # Distribución normal\n",
        "    'Num3': np.log(np.random.rand(num_rows) * 10 + 1),  # Distribución logarítmica\n",
        "    'Num4': np.random.exponential(1, num_rows),  # Distribución exponencial\n",
        "    'Num5': np.random.poisson(5, num_rows)  # Distribución de Poisson\n",
        "}\n",
        "\n",
        "df = pd.DataFrame(data)\n",
        "\n",
        "# Crear tabla y insertar los datos en SQLite\n",
        "df.to_sql('simulated_table', conn, if_exists='replace', index=False)\n",
        "\n",
        "# Cerrar conexión a la base de datos\n",
        "conn.close()"
      ]
    },
    {
      "cell_type": "code",
      "execution_count": 35,
      "metadata": {
        "colab": {
          "base_uri": "https://localhost:8080/"
        },
        "id": "amBm9No6jagJ",
        "outputId": "9f678559-4899-44e2-b8d7-41138a3fa564"
      },
      "outputs": [
        {
          "output_type": "stream",
          "name": "stdout",
          "text": [
            "shape: (1_000, 6)\n",
            "┌──────────┬──────────┬───────────┬──────────┬──────────┬──────┐\n",
            "│ Category ┆ Num1     ┆ Num2      ┆ Num3     ┆ Num4     ┆ Num5 │\n",
            "│ ---      ┆ ---      ┆ ---       ┆ ---      ┆ ---      ┆ ---  │\n",
            "│ str      ┆ f64      ┆ f64       ┆ f64      ┆ f64      ┆ i64  │\n",
            "╞══════════╪══════════╪═══════════╪══════════╪══════════╪══════╡\n",
            "│ A        ┆ 0.310381 ┆ 62.21385  ┆ 0.918714 ┆ 0.259572 ┆ 3    │\n",
            "│ D        ┆ 0.373035 ┆ 48.071582 ┆ 1.937057 ┆ 1.815245 ┆ 3    │\n",
            "│ B        ┆ 0.52497  ┆ 49.666807 ┆ 1.852578 ┆ 0.419246 ┆ 2    │\n",
            "│ A        ┆ 0.750595 ┆ 34.691965 ┆ 1.093287 ┆ 3.87489  ┆ 5    │\n",
            "│ …        ┆ …        ┆ …         ┆ …        ┆ …        ┆ …    │\n",
            "│ A        ┆ 0.193623 ┆ 26.278061 ┆ 1.470373 ┆ 0.387993 ┆ 6    │\n",
            "│ C        ┆ 0.11225  ┆ 36.18255  ┆ 1.445977 ┆ 1.159704 ┆ 3    │\n",
            "│ B        ┆ 0.042364 ┆ 48.875562 ┆ 2.394008 ┆ 0.144141 ┆ 5    │\n",
            "│ A        ┆ 0.227741 ┆ 58.978642 ┆ 2.353668 ┆ 1.635521 ┆ 2    │\n",
            "└──────────┴──────────┴───────────┴──────────┴──────────┴──────┘\n"
          ]
        }
      ],
      "source": [
        "import polars as pl\n",
        "from sqlalchemy import create_engine\n",
        "\n",
        "# Crear el motor de conexión para SQLite\n",
        "engine = create_engine('sqlite:///test.db')\n",
        "\n",
        "# Consulta SQL para leer los datos\n",
        "query = \"SELECT * FROM simulated_table\"\n",
        "\n",
        "# Utilizar pl.read_database para leer los datos en un DataFrame de Polars\n",
        "df_polars = pl.read_database(query=query, connection=engine.connect())\n",
        "\n",
        "# Mostrar el DataFrame de Polars\n",
        "print(df_polars)"
      ]
    },
    {
      "cell_type": "markdown",
      "source": [
        "### Paso 1: Creación de Datos Simulados\n",
        "\n",
        "Primero, vamos a crear un DataFrame con Polars que contenga una columna categórica (`Category`) y cinco columnas numéricas (`Num1` a `Num5`) con diferentes tipos de datos numéricos.\n",
        "\n",
        "```python\n",
        "import polars as pl\n",
        "import numpy as np\n",
        "\n",
        "# Establecer la semilla para la reproducibilidad\n",
        "np.random.seed(0)\n",
        "\n",
        "# Crear el DataFrame\n",
        "df = pl.DataFrame({\n",
        "    \"Category\": np.random.choice([\"A\", \"B\", \"C\", \"D\"], 1000),\n",
        "    \"Num1\": np.random.rand(1000) * 100,\n",
        "    \"Num2\": np.random.randn(1000),\n",
        "    \"Num3\": np.random.randint(1, 100, 1000),\n",
        "    \"Num4\": np.random.exponential(1, 1000),\n",
        "    \"Num5\": np.random.rand(1000) * 50\n",
        "})\n",
        "\n",
        "print(df)\n",
        "```\n",
        "\n"
      ],
      "metadata": {
        "id": "eOww4Vijt6rz"
      }
    },
    {
      "cell_type": "code",
      "source": [
        "import polars as pl\n",
        "import numpy as np\n",
        "\n",
        "# Establecer la semilla para la reproducibilidad\n",
        "np.random.seed(0)\n",
        "\n",
        "# Crear el DataFrame\n",
        "df = pl.DataFrame({\n",
        "    \"Category\": np.random.choice([\"A\", \"B\", \"C\", \"D\"], 1000),\n",
        "    \"Num1\": np.random.rand(1000) * 100,\n",
        "    \"Num2\": np.random.randn(1000),\n",
        "    \"Num3\": np.random.randint(1, 100, 1000),\n",
        "    \"Num4\": np.random.exponential(1, 1000),\n",
        "    \"Num5\": np.random.rand(1000) * 50\n",
        "})\n",
        "\n",
        "print(df)"
      ],
      "metadata": {
        "colab": {
          "base_uri": "https://localhost:8080/"
        },
        "id": "lVsfc5X_t_s0",
        "outputId": "7ca1ca4e-4631-474f-ae22-fd6c4e4573e2"
      },
      "execution_count": 36,
      "outputs": [
        {
          "output_type": "stream",
          "name": "stdout",
          "text": [
            "shape: (1_000, 6)\n",
            "┌──────────┬───────────┬───────────┬──────┬──────────┬───────────┐\n",
            "│ Category ┆ Num1      ┆ Num2      ┆ Num3 ┆ Num4     ┆ Num5      │\n",
            "│ ---      ┆ ---       ┆ ---       ┆ ---  ┆ ---      ┆ ---       │\n",
            "│ str      ┆ f64       ┆ f64       ┆ i64  ┆ f64      ┆ f64       │\n",
            "╞══════════╪═══════════╪═══════════╪══════╪══════════╪═══════════╡\n",
            "│ A        ┆ 31.038083 ┆ 1.221385  ┆ 93   ┆ 0.327546 ┆ 25.425978 │\n",
            "│ D        ┆ 37.303486 ┆ -0.192842 ┆ 66   ┆ 0.638946 ┆ 47.03379  │\n",
            "│ B        ┆ 52.497044 ┆ -0.033319 ┆ 42   ┆ 1.280853 ┆ 43.510583 │\n",
            "│ A        ┆ 75.059502 ┆ -1.530803 ┆ 39   ┆ 0.763945 ┆ 10.856792 │\n",
            "│ …        ┆ …         ┆ …         ┆ …    ┆ …        ┆ …         │\n",
            "│ A        ┆ 19.362329 ┆ -2.372194 ┆ 29   ┆ 1.178957 ┆ 4.428173  │\n",
            "│ C        ┆ 11.224999 ┆ -1.381745 ┆ 1    ┆ 2.044436 ┆ 7.436232  │\n",
            "│ B        ┆ 4.236405  ┆ -0.112444 ┆ 70   ┆ 0.26253  ┆ 7.77212   │\n",
            "│ A        ┆ 22.774099 ┆ 0.897864  ┆ 58   ┆ 0.114053 ┆ 33.554484 │\n",
            "└──────────┴───────────┴───────────┴──────┴──────────┴───────────┘\n"
          ]
        }
      ]
    },
    {
      "cell_type": "markdown",
      "source": [
        "### Ejemplo 1: Seleccionar Todas las Columnas del DataFrame\n",
        "\n",
        "```python\n",
        "all_columns = df.select(pl.all())\n",
        "print(all_columns)\n",
        "```"
      ],
      "metadata": {
        "id": "vwd5VBu8uFua"
      }
    },
    {
      "cell_type": "code",
      "source": [
        "all_columns = df.select(pl.all())\n",
        "print(all_columns)"
      ],
      "metadata": {
        "colab": {
          "base_uri": "https://localhost:8080/"
        },
        "id": "1mNC9fwnuNgZ",
        "outputId": "2b94259a-928a-4367-b96a-dd1539cc42e3"
      },
      "execution_count": 37,
      "outputs": [
        {
          "output_type": "stream",
          "name": "stdout",
          "text": [
            "shape: (1_000, 6)\n",
            "┌──────────┬───────────┬───────────┬──────┬──────────┬───────────┐\n",
            "│ Category ┆ Num1      ┆ Num2      ┆ Num3 ┆ Num4     ┆ Num5      │\n",
            "│ ---      ┆ ---       ┆ ---       ┆ ---  ┆ ---      ┆ ---       │\n",
            "│ str      ┆ f64       ┆ f64       ┆ i64  ┆ f64      ┆ f64       │\n",
            "╞══════════╪═══════════╪═══════════╪══════╪══════════╪═══════════╡\n",
            "│ A        ┆ 31.038083 ┆ 1.221385  ┆ 93   ┆ 0.327546 ┆ 25.425978 │\n",
            "│ D        ┆ 37.303486 ┆ -0.192842 ┆ 66   ┆ 0.638946 ┆ 47.03379  │\n",
            "│ B        ┆ 52.497044 ┆ -0.033319 ┆ 42   ┆ 1.280853 ┆ 43.510583 │\n",
            "│ A        ┆ 75.059502 ┆ -1.530803 ┆ 39   ┆ 0.763945 ┆ 10.856792 │\n",
            "│ …        ┆ …         ┆ …         ┆ …    ┆ …        ┆ …         │\n",
            "│ A        ┆ 19.362329 ┆ -2.372194 ┆ 29   ┆ 1.178957 ┆ 4.428173  │\n",
            "│ C        ┆ 11.224999 ┆ -1.381745 ┆ 1    ┆ 2.044436 ┆ 7.436232  │\n",
            "│ B        ┆ 4.236405  ┆ -0.112444 ┆ 70   ┆ 0.26253  ┆ 7.77212   │\n",
            "│ A        ┆ 22.774099 ┆ 0.897864  ┆ 58   ┆ 0.114053 ┆ 33.554484 │\n",
            "└──────────┴───────────┴───────────┴──────┴──────────┴───────────┘\n"
          ]
        }
      ]
    },
    {
      "cell_type": "markdown",
      "source": [
        "### Ejemplo 2: Seleccionar Columnas Específicas por Nombre\n",
        "\n",
        "```python\n",
        "specific_columns = df.select([\"Category\", \"Num1\", \"Num3\"])\n",
        "print(specific_columns)\n",
        "```"
      ],
      "metadata": {
        "id": "CNrq8tGwuI_0"
      }
    },
    {
      "cell_type": "code",
      "source": [
        "specific_columns = df.select([\"Category\", \"Num1\", \"Num3\"])\n",
        "print(specific_columns)"
      ],
      "metadata": {
        "colab": {
          "base_uri": "https://localhost:8080/"
        },
        "id": "Mcwt2zg5uQl_",
        "outputId": "1f0d33cb-2b0b-4f95-bbd9-545f1ebece8c"
      },
      "execution_count": 38,
      "outputs": [
        {
          "output_type": "stream",
          "name": "stdout",
          "text": [
            "shape: (1_000, 3)\n",
            "┌──────────┬───────────┬──────┐\n",
            "│ Category ┆ Num1      ┆ Num3 │\n",
            "│ ---      ┆ ---       ┆ ---  │\n",
            "│ str      ┆ f64       ┆ i64  │\n",
            "╞══════════╪═══════════╪══════╡\n",
            "│ A        ┆ 31.038083 ┆ 93   │\n",
            "│ D        ┆ 37.303486 ┆ 66   │\n",
            "│ B        ┆ 52.497044 ┆ 42   │\n",
            "│ A        ┆ 75.059502 ┆ 39   │\n",
            "│ …        ┆ …         ┆ …    │\n",
            "│ A        ┆ 19.362329 ┆ 29   │\n",
            "│ C        ┆ 11.224999 ┆ 1    │\n",
            "│ B        ┆ 4.236405  ┆ 70   │\n",
            "│ A        ┆ 22.774099 ┆ 58   │\n",
            "└──────────┴───────────┴──────┘\n"
          ]
        }
      ]
    },
    {
      "cell_type": "markdown",
      "source": [
        "### Ejemplo 3: Seleccionar Columnas\n",
        "\n",
        "\n",
        "```python\n",
        "# En este ejemplo específico, sabemos que 'Num1' a 'Num5' son las columnas numéricas\n",
        "numeric_columns = df.select([pl.col(\"Num1\"), pl.col(\"Num2\"), pl.col(\"Num3\"), pl.col(\"Num4\"), pl.col(\"Num5\")])\n",
        "print(numeric_columns)\n",
        "```"
      ],
      "metadata": {
        "id": "ZGAByTy1uK9s"
      }
    },
    {
      "cell_type": "code",
      "source": [
        "# En este ejemplo específico, sabemos que 'Num1' a 'Num5' son las columnas numéricas\n",
        "numeric_columns = df.select([pl.col(\"Num1\"), pl.col(\"Num2\"), pl.col(\"Num3\"), pl.col(\"Num4\"), pl.col(\"Num5\")])\n",
        "print(numeric_columns)"
      ],
      "metadata": {
        "colab": {
          "base_uri": "https://localhost:8080/"
        },
        "id": "NX4ASNZzuETy",
        "outputId": "fb504518-b0f5-4e29-c0db-36aeeb9d68da"
      },
      "execution_count": 39,
      "outputs": [
        {
          "output_type": "stream",
          "name": "stdout",
          "text": [
            "shape: (1_000, 5)\n",
            "┌───────────┬───────────┬──────┬──────────┬───────────┐\n",
            "│ Num1      ┆ Num2      ┆ Num3 ┆ Num4     ┆ Num5      │\n",
            "│ ---       ┆ ---       ┆ ---  ┆ ---      ┆ ---       │\n",
            "│ f64       ┆ f64       ┆ i64  ┆ f64      ┆ f64       │\n",
            "╞═══════════╪═══════════╪══════╪══════════╪═══════════╡\n",
            "│ 31.038083 ┆ 1.221385  ┆ 93   ┆ 0.327546 ┆ 25.425978 │\n",
            "│ 37.303486 ┆ -0.192842 ┆ 66   ┆ 0.638946 ┆ 47.03379  │\n",
            "│ 52.497044 ┆ -0.033319 ┆ 42   ┆ 1.280853 ┆ 43.510583 │\n",
            "│ 75.059502 ┆ -1.530803 ┆ 39   ┆ 0.763945 ┆ 10.856792 │\n",
            "│ …         ┆ …         ┆ …    ┆ …        ┆ …         │\n",
            "│ 19.362329 ┆ -2.372194 ┆ 29   ┆ 1.178957 ┆ 4.428173  │\n",
            "│ 11.224999 ┆ -1.381745 ┆ 1    ┆ 2.044436 ┆ 7.436232  │\n",
            "│ 4.236405  ┆ -0.112444 ┆ 70   ┆ 0.26253  ┆ 7.77212   │\n",
            "│ 22.774099 ┆ 0.897864  ┆ 58   ┆ 0.114053 ┆ 33.554484 │\n",
            "└───────────┴───────────┴──────┴──────────┴───────────┘\n"
          ]
        }
      ]
    },
    {
      "cell_type": "markdown",
      "source": [
        "\n",
        "### FILTROS\n",
        "\n",
        "Paso Adicional: Agregar Columna de Fechas\n",
        "\n"
      ],
      "metadata": {
        "id": "iSk9ko3Ouu0c"
      }
    },
    {
      "cell_type": "code",
      "source": [
        "import polars as pl\n",
        "import numpy as np\n",
        "\n",
        "# Generar fechas aleatorias (corrección para crear un rango de fechas)\n",
        "start_date = np.datetime64('2020-01-01')\n",
        "end_date = np.datetime64('2020-12-31')\n",
        "dates = np.arange(start_date, end_date, dtype='datetime64[D]')\n",
        "random_dates = np.random.choice(dates, 1000)\n",
        "\n",
        "# Crear DataFrame de Polars\n",
        "df = pl.DataFrame({\n",
        "    \"Category\": np.random.choice([\"A\", \"B\", \"C\", \"D\"], 1000),\n",
        "    \"Num1\": np.random.rand(1000) * 100,\n",
        "    \"Num2\": np.random.randn(1000),\n",
        "    \"Num3\": np.random.randint(1, 100, 1000),\n",
        "    \"Num4\": np.random.exponential(1, 1000),\n",
        "    \"Num5\": np.random.rand(1000) * 50,\n",
        "    \"Date\": random_dates\n",
        "})\n",
        "\n",
        "# Asegurarse de que la columna 'Date' es del tipo fecha\n",
        "df = df.with_columns(df[\"Date\"].cast(pl.Date))\n"
      ],
      "metadata": {
        "id": "gXFH5FSou3Wf"
      },
      "execution_count": 51,
      "outputs": []
    },
    {
      "cell_type": "markdown",
      "source": [
        "### Ejemplo 1: Filtrar Filas Basadas en una Condición Simple\n",
        "\n",
        "Vamos a filtrar las filas donde el valor de `Num1` sea mayor a 50.\n",
        "\n",
        "```python\n",
        "filtered_simple = df.filter(pl.col(\"Num1\") > 50)\n",
        "print(filtered_simple)\n",
        "```\n",
        "\n"
      ],
      "metadata": {
        "id": "fcYSA0NxuxR5"
      }
    },
    {
      "cell_type": "code",
      "source": [
        "filtered_simple = df.filter(pl.col(\"Num1\") > 50)\n",
        "print(filtered_simple)"
      ],
      "metadata": {
        "colab": {
          "base_uri": "https://localhost:8080/"
        },
        "id": "4wzvg8rAvUGQ",
        "outputId": "d37421af-b64b-41b3-927a-57e4e6098316"
      },
      "execution_count": 52,
      "outputs": [
        {
          "output_type": "stream",
          "name": "stdout",
          "text": [
            "shape: (497, 7)\n",
            "┌──────────┬───────────┬───────────┬──────┬──────────┬───────────┬────────────┐\n",
            "│ Category ┆ Num1      ┆ Num2      ┆ Num3 ┆ Num4     ┆ Num5      ┆ Date       │\n",
            "│ ---      ┆ ---       ┆ ---       ┆ ---  ┆ ---      ┆ ---       ┆ ---        │\n",
            "│ str      ┆ f64       ┆ f64       ┆ i64  ┆ f64      ┆ f64       ┆ date       │\n",
            "╞══════════╪═══════════╪═══════════╪══════╪══════════╪═══════════╪════════════╡\n",
            "│ C        ┆ 51.122014 ┆ -1.404708 ┆ 56   ┆ 0.542551 ┆ 11.533433 ┆ 2020-03-25 │\n",
            "│ D        ┆ 77.125256 ┆ -0.36575  ┆ 95   ┆ 0.540152 ┆ 12.3826   ┆ 2020-02-19 │\n",
            "│ D        ┆ 59.686489 ┆ 0.275136  ┆ 1    ┆ 0.946497 ┆ 11.835743 ┆ 2020-05-04 │\n",
            "│ A        ┆ 54.643893 ┆ -1.558889 ┆ 4    ┆ 0.305849 ┆ 32.209998 ┆ 2020-09-26 │\n",
            "│ …        ┆ …         ┆ …         ┆ …    ┆ …        ┆ …         ┆ …          │\n",
            "│ A        ┆ 94.20893  ┆ 0.781847  ┆ 25   ┆ 0.075035 ┆ 7.74581   ┆ 2020-05-15 │\n",
            "│ A        ┆ 62.915617 ┆ 1.305445  ┆ 51   ┆ 0.544497 ┆ 6.520941  ┆ 2020-02-25 │\n",
            "│ D        ┆ 51.554813 ┆ 0.452769  ┆ 40   ┆ 0.24836  ┆ 44.63741  ┆ 2020-09-17 │\n",
            "│ D        ┆ 71.87293  ┆ 0.636152  ┆ 76   ┆ 2.955473 ┆ 47.472269 ┆ 2020-12-05 │\n",
            "└──────────┴───────────┴───────────┴──────┴──────────┴───────────┴────────────┘\n"
          ]
        }
      ]
    },
    {
      "cell_type": "markdown",
      "source": [
        "### Ejemplo 2: Filtrar Utilizando Condiciones Compuestas\n",
        "\n",
        "Ahora, filtraremos las filas que cumplan con dos condiciones: `Num1` mayor a 50 y `Num3` menor que 30.\n",
        "\n",
        "```python\n",
        "filtered_compound = df.filter((pl.col(\"Num1\") > 50) & (pl.col(\"Num3\") < 30))\n",
        "print(filtered_compound)\n",
        "```"
      ],
      "metadata": {
        "id": "J79hVbxHuy_n"
      }
    },
    {
      "cell_type": "code",
      "source": [
        "filtered_compound = df.filter((pl.col(\"Num1\") > 50) & (pl.col(\"Num3\") < 30))\n",
        "print(filtered_compound)"
      ],
      "metadata": {
        "colab": {
          "base_uri": "https://localhost:8080/"
        },
        "id": "nqhwRekVvbHM",
        "outputId": "3c537cc4-aac8-4b93-ba47-e0c67d222494"
      },
      "execution_count": 53,
      "outputs": [
        {
          "output_type": "stream",
          "name": "stdout",
          "text": [
            "shape: (143, 7)\n",
            "┌──────────┬───────────┬───────────┬──────┬──────────┬───────────┬────────────┐\n",
            "│ Category ┆ Num1      ┆ Num2      ┆ Num3 ┆ Num4     ┆ Num5      ┆ Date       │\n",
            "│ ---      ┆ ---       ┆ ---       ┆ ---  ┆ ---      ┆ ---       ┆ ---        │\n",
            "│ str      ┆ f64       ┆ f64       ┆ i64  ┆ f64      ┆ f64       ┆ date       │\n",
            "╞══════════╪═══════════╪═══════════╪══════╪══════════╪═══════════╪════════════╡\n",
            "│ D        ┆ 59.686489 ┆ 0.275136  ┆ 1    ┆ 0.946497 ┆ 11.835743 ┆ 2020-05-04 │\n",
            "│ A        ┆ 54.643893 ┆ -1.558889 ┆ 4    ┆ 0.305849 ┆ 32.209998 ┆ 2020-09-26 │\n",
            "│ A        ┆ 60.433745 ┆ -0.985396 ┆ 25   ┆ 2.825535 ┆ 30.406909 ┆ 2020-11-03 │\n",
            "│ D        ┆ 50.434605 ┆ -1.213214 ┆ 19   ┆ 1.707626 ┆ 5.26124   ┆ 2020-12-11 │\n",
            "│ …        ┆ …         ┆ …         ┆ …    ┆ …        ┆ …         ┆ …          │\n",
            "│ A        ┆ 51.34045  ┆ 0.123047  ┆ 17   ┆ 2.863434 ┆ 27.997369 ┆ 2020-03-21 │\n",
            "│ B        ┆ 75.806398 ┆ 0.49938   ┆ 22   ┆ 0.222167 ┆ 27.550116 ┆ 2020-09-07 │\n",
            "│ B        ┆ 63.669541 ┆ 0.227978  ┆ 10   ┆ 0.446578 ┆ 49.916981 ┆ 2020-06-20 │\n",
            "│ A        ┆ 94.20893  ┆ 0.781847  ┆ 25   ┆ 0.075035 ┆ 7.74581   ┆ 2020-05-15 │\n",
            "└──────────┴───────────┴───────────┴──────┴──────────┴───────────┴────────────┘\n"
          ]
        }
      ]
    },
    {
      "cell_type": "markdown",
      "source": [
        "### Ejemplo 3: Filtrar Fechas Dentro de un Rango Específico\n",
        "\n"
      ],
      "metadata": {
        "id": "CMhjqf0gu0tz"
      }
    },
    {
      "cell_type": "code",
      "source": [
        "from datetime import datetime\n",
        "import polars as pl\n",
        "\n",
        "filtered_range_df = df.filter(\n",
        "    pl.col(\"Date\").is_between(pl.lit(datetime(2020, 3, 1)), pl.lit(datetime(2020, 6, 30)))\n",
        ")\n",
        "\n",
        "print(filtered_range_df)\n"
      ],
      "metadata": {
        "colab": {
          "base_uri": "https://localhost:8080/"
        },
        "id": "h0lvgpSbvdhv",
        "outputId": "e58316bb-8690-4558-b487-8cfcada1b4c0"
      },
      "execution_count": 56,
      "outputs": [
        {
          "output_type": "stream",
          "name": "stdout",
          "text": [
            "shape: (337, 7)\n",
            "┌──────────┬───────────┬───────────┬──────┬──────────┬───────────┬────────────┐\n",
            "│ Category ┆ Num1      ┆ Num2      ┆ Num3 ┆ Num4     ┆ Num5      ┆ Date       │\n",
            "│ ---      ┆ ---       ┆ ---       ┆ ---  ┆ ---      ┆ ---       ┆ ---        │\n",
            "│ str      ┆ f64       ┆ f64       ┆ i64  ┆ f64      ┆ f64       ┆ date       │\n",
            "╞══════════╪═══════════╪═══════════╪══════╪══════════╪═══════════╪════════════╡\n",
            "│ C        ┆ 51.122014 ┆ -1.404708 ┆ 56   ┆ 0.542551 ┆ 11.533433 ┆ 2020-03-25 │\n",
            "│ D        ┆ 59.686489 ┆ 0.275136  ┆ 1    ┆ 0.946497 ┆ 11.835743 ┆ 2020-05-04 │\n",
            "│ D        ┆ 57.760586 ┆ -0.368788 ┆ 63   ┆ 0.385142 ┆ 35.672454 ┆ 2020-04-22 │\n",
            "│ C        ┆ 16.703196 ┆ 0.327954  ┆ 29   ┆ 0.307399 ┆ 47.182164 ┆ 2020-05-20 │\n",
            "│ …        ┆ …         ┆ …         ┆ …    ┆ …        ┆ …         ┆ …          │\n",
            "│ B        ┆ 93.2006   ┆ -0.611262 ┆ 71   ┆ 1.803935 ┆ 37.72623  ┆ 2020-06-15 │\n",
            "│ B        ┆ 63.669541 ┆ 0.227978  ┆ 10   ┆ 0.446578 ┆ 49.916981 ┆ 2020-06-20 │\n",
            "│ A        ┆ 94.20893  ┆ 0.781847  ┆ 25   ┆ 0.075035 ┆ 7.74581   ┆ 2020-05-15 │\n",
            "│ A        ┆ 16.16041  ┆ -0.476355 ┆ 42   ┆ 2.087084 ┆ 41.185744 ┆ 2020-03-31 │\n",
            "└──────────┴───────────┴───────────┴──────┴──────────┴───────────┴────────────┘\n"
          ]
        }
      ]
    },
    {
      "cell_type": "markdown",
      "source": [
        "Ejemplo: Añadir una Nueva Columna Calculada a Partir de Otras Columnas\n",
        "\n",
        "Vamos a añadir una nueva columna llamada \"Num6\", que será el resultado de multiplicar \"Num1\" por \"Num2\"."
      ],
      "metadata": {
        "id": "o6QY5YgLxzsb"
      }
    },
    {
      "cell_type": "code",
      "source": [
        "df_with_new_column = df.with_columns((pl.col(\"Num1\") * pl.col(\"Num2\")).alias(\"Num6\"))\n",
        "print(df_with_new_column)"
      ],
      "metadata": {
        "colab": {
          "base_uri": "https://localhost:8080/"
        },
        "id": "TIqninj7xdtc",
        "outputId": "7973a11f-2c43-4d22-e539-ded607bbc23d"
      },
      "execution_count": 58,
      "outputs": [
        {
          "output_type": "stream",
          "name": "stdout",
          "text": [
            "shape: (1_000, 8)\n",
            "┌──────────┬───────────┬───────────┬──────┬──────────┬───────────┬────────────┬─────────────┐\n",
            "│ Category ┆ Num1      ┆ Num2      ┆ Num3 ┆ Num4     ┆ Num5      ┆ Date       ┆ Num6        │\n",
            "│ ---      ┆ ---       ┆ ---       ┆ ---  ┆ ---      ┆ ---       ┆ ---        ┆ ---         │\n",
            "│ str      ┆ f64       ┆ f64       ┆ i64  ┆ f64      ┆ f64       ┆ date       ┆ f64         │\n",
            "╞══════════╪═══════════╪═══════════╪══════╪══════════╪═══════════╪════════════╪═════════════╡\n",
            "│ B        ┆ 15.380319 ┆ -0.305241 ┆ 27   ┆ 1.023416 ┆ 17.620948 ┆ 2020-07-18 ┆ -4.694705   │\n",
            "│ C        ┆ 51.122014 ┆ -1.404708 ┆ 56   ┆ 0.542551 ┆ 11.533433 ┆ 2020-03-25 ┆ -71.811502  │\n",
            "│ D        ┆ 77.125256 ┆ -0.36575  ┆ 95   ┆ 0.540152 ┆ 12.3826   ┆ 2020-02-19 ┆ -28.20858   │\n",
            "│ C        ┆ 41.305362 ┆ -0.097275 ┆ 83   ┆ 2.09784  ┆ 4.551589  ┆ 2020-01-12 ┆ -4.017961   │\n",
            "│ …        ┆ …         ┆ …         ┆ …    ┆ …        ┆ …         ┆ …          ┆ …           │\n",
            "│ C        ┆ 23.576566 ┆ 0.684312  ┆ 73   ┆ 0.398554 ┆ 38.642873 ┆ 2020-12-08 ┆ 16.133728   │\n",
            "│ D        ┆ 51.554813 ┆ 0.452769  ┆ 40   ┆ 0.24836  ┆ 44.63741  ┆ 2020-09-17 ┆ 23.342447   │\n",
            "│ D        ┆ 48.75239  ┆ -2.447202 ┆ 66   ┆ 0.902406 ┆ 37.325526 ┆ 2020-01-19 ┆ -119.306932 │\n",
            "│ D        ┆ 71.87293  ┆ 0.636152  ┆ 76   ┆ 2.955473 ┆ 47.472269 ┆ 2020-12-05 ┆ 45.722076   │\n",
            "└──────────┴───────────┴───────────┴──────┴──────────┴───────────┴────────────┴─────────────┘\n"
          ]
        }
      ]
    },
    {
      "cell_type": "markdown",
      "source": [
        "Ejemplo: Modificar Columnas Existentes Aplicando Transformaciones\n",
        "\n",
        "Vamos a normalizar la columna \"Num3\" (ponerla en una escala de 0 a 1) utilizando el máximo y el mínimo de esa columna."
      ],
      "metadata": {
        "id": "qEAZBJjdx4bM"
      }
    },
    {
      "cell_type": "code",
      "source": [
        "df_modified = df.with_columns(\n",
        "    ((pl.col(\"Num3\") - pl.col(\"Num3\").min()) / (pl.col(\"Num3\").max() - pl.col(\"Num3\").min())).alias(\"Num3_normalized\")\n",
        ")\n",
        "print(df_modified)"
      ],
      "metadata": {
        "colab": {
          "base_uri": "https://localhost:8080/"
        },
        "id": "S7B1daeZxkSH",
        "outputId": "463e621f-2363-46a9-f4e7-9b31782f546b"
      },
      "execution_count": 59,
      "outputs": [
        {
          "output_type": "stream",
          "name": "stdout",
          "text": [
            "shape: (1_000, 8)\n",
            "┌──────────┬───────────┬───────────┬──────┬──────────┬───────────┬────────────┬─────────────────┐\n",
            "│ Category ┆ Num1      ┆ Num2      ┆ Num3 ┆ Num4     ┆ Num5      ┆ Date       ┆ Num3_normalized │\n",
            "│ ---      ┆ ---       ┆ ---       ┆ ---  ┆ ---      ┆ ---       ┆ ---        ┆ ---             │\n",
            "│ str      ┆ f64       ┆ f64       ┆ i64  ┆ f64      ┆ f64       ┆ date       ┆ f64             │\n",
            "╞══════════╪═══════════╪═══════════╪══════╪══════════╪═══════════╪════════════╪═════════════════╡\n",
            "│ B        ┆ 15.380319 ┆ -0.305241 ┆ 27   ┆ 1.023416 ┆ 17.620948 ┆ 2020-07-18 ┆ 0.265306        │\n",
            "│ C        ┆ 51.122014 ┆ -1.404708 ┆ 56   ┆ 0.542551 ┆ 11.533433 ┆ 2020-03-25 ┆ 0.561224        │\n",
            "│ D        ┆ 77.125256 ┆ -0.36575  ┆ 95   ┆ 0.540152 ┆ 12.3826   ┆ 2020-02-19 ┆ 0.959184        │\n",
            "│ C        ┆ 41.305362 ┆ -0.097275 ┆ 83   ┆ 2.09784  ┆ 4.551589  ┆ 2020-01-12 ┆ 0.836735        │\n",
            "│ …        ┆ …         ┆ …         ┆ …    ┆ …        ┆ …         ┆ …          ┆ …               │\n",
            "│ C        ┆ 23.576566 ┆ 0.684312  ┆ 73   ┆ 0.398554 ┆ 38.642873 ┆ 2020-12-08 ┆ 0.734694        │\n",
            "│ D        ┆ 51.554813 ┆ 0.452769  ┆ 40   ┆ 0.24836  ┆ 44.63741  ┆ 2020-09-17 ┆ 0.397959        │\n",
            "│ D        ┆ 48.75239  ┆ -2.447202 ┆ 66   ┆ 0.902406 ┆ 37.325526 ┆ 2020-01-19 ┆ 0.663265        │\n",
            "│ D        ┆ 71.87293  ┆ 0.636152  ┆ 76   ┆ 2.955473 ┆ 47.472269 ┆ 2020-12-05 ┆ 0.765306        │\n",
            "└──────────┴───────────┴───────────┴──────┴──────────┴───────────┴────────────┴─────────────────┘\n"
          ]
        }
      ]
    },
    {
      "cell_type": "markdown",
      "source": [
        "Ejemplo: Crear Columnas Indicadoras o Flags Basadas en Condiciones Específicas\n",
        "\n",
        "Añadiremos una columna indicadora llamada \"High_Num1\" que será True si el valor de \"Num1\" es mayor que 50, y False en caso contrario."
      ],
      "metadata": {
        "id": "kr8psmLwx8ZS"
      }
    },
    {
      "cell_type": "code",
      "source": [
        "df_with_flag = df.with_columns(\n",
        "    (pl.col(\"Num1\") > 50).alias(\"High_Num1\")\n",
        ")\n",
        "print(df_with_flag)"
      ],
      "metadata": {
        "colab": {
          "base_uri": "https://localhost:8080/"
        },
        "id": "xqtw_3LVxr8O",
        "outputId": "83ce9ee7-4fcf-4a3f-e09f-1cd7c3c5e0a2"
      },
      "execution_count": 61,
      "outputs": [
        {
          "output_type": "stream",
          "name": "stdout",
          "text": [
            "shape: (1_000, 8)\n",
            "┌──────────┬───────────┬───────────┬──────┬──────────┬───────────┬────────────┬───────────┐\n",
            "│ Category ┆ Num1      ┆ Num2      ┆ Num3 ┆ Num4     ┆ Num5      ┆ Date       ┆ High_Num1 │\n",
            "│ ---      ┆ ---       ┆ ---       ┆ ---  ┆ ---      ┆ ---       ┆ ---        ┆ ---       │\n",
            "│ str      ┆ f64       ┆ f64       ┆ i64  ┆ f64      ┆ f64       ┆ date       ┆ bool      │\n",
            "╞══════════╪═══════════╪═══════════╪══════╪══════════╪═══════════╪════════════╪═══════════╡\n",
            "│ B        ┆ 15.380319 ┆ -0.305241 ┆ 27   ┆ 1.023416 ┆ 17.620948 ┆ 2020-07-18 ┆ false     │\n",
            "│ C        ┆ 51.122014 ┆ -1.404708 ┆ 56   ┆ 0.542551 ┆ 11.533433 ┆ 2020-03-25 ┆ true      │\n",
            "│ D        ┆ 77.125256 ┆ -0.36575  ┆ 95   ┆ 0.540152 ┆ 12.3826   ┆ 2020-02-19 ┆ true      │\n",
            "│ C        ┆ 41.305362 ┆ -0.097275 ┆ 83   ┆ 2.09784  ┆ 4.551589  ┆ 2020-01-12 ┆ false     │\n",
            "│ …        ┆ …         ┆ …         ┆ …    ┆ …        ┆ …         ┆ …          ┆ …         │\n",
            "│ C        ┆ 23.576566 ┆ 0.684312  ┆ 73   ┆ 0.398554 ┆ 38.642873 ┆ 2020-12-08 ┆ false     │\n",
            "│ D        ┆ 51.554813 ┆ 0.452769  ┆ 40   ┆ 0.24836  ┆ 44.63741  ┆ 2020-09-17 ┆ true      │\n",
            "│ D        ┆ 48.75239  ┆ -2.447202 ┆ 66   ┆ 0.902406 ┆ 37.325526 ┆ 2020-01-19 ┆ false     │\n",
            "│ D        ┆ 71.87293  ┆ 0.636152  ┆ 76   ┆ 2.955473 ┆ 47.472269 ┆ 2020-12-05 ┆ true      │\n",
            "└──────────┴───────────┴───────────┴──────┴──────────┴───────────┴────────────┴───────────┘\n"
          ]
        }
      ]
    },
    {
      "cell_type": "markdown",
      "source": [
        "Ejemplo: Agrupar Datos por una o Varias Columnas y Calcular Estadísticas Resumidas\n",
        "\n",
        "Agruparemos por la columna \"Category\" y calcularemos la suma, la media y el conteo para la columna \"Num1\"."
      ],
      "metadata": {
        "id": "S64QvVr-yfoi"
      }
    },
    {
      "cell_type": "code",
      "source": [
        "grouped_summary = df.groupby(\"Category\").agg([\n",
        "    pl.col(\"Num1\").sum().alias(\"Sum_Num1\"),\n",
        "    pl.col(\"Num1\").mean().alias(\"Mean_Num1\"),\n",
        "    pl.count(\"Num1\").alias(\"Count_Num1\")\n",
        "])\n",
        "print(grouped_summary)"
      ],
      "metadata": {
        "colab": {
          "base_uri": "https://localhost:8080/"
        },
        "id": "c5Y0saRsyM6f",
        "outputId": "57e836f0-558f-4542-e1f3-33e76842921d"
      },
      "execution_count": 62,
      "outputs": [
        {
          "output_type": "stream",
          "name": "stdout",
          "text": [
            "shape: (4, 4)\n",
            "┌──────────┬──────────────┬───────────┬────────────┐\n",
            "│ Category ┆ Sum_Num1     ┆ Mean_Num1 ┆ Count_Num1 │\n",
            "│ ---      ┆ ---          ┆ ---       ┆ ---        │\n",
            "│ str      ┆ f64          ┆ f64       ┆ u32        │\n",
            "╞══════════╪══════════════╪═══════════╪════════════╡\n",
            "│ A        ┆ 11837.4729   ┆ 49.737281 ┆ 238        │\n",
            "│ C        ┆ 14099.390982 ┆ 50.535452 ┆ 279        │\n",
            "│ B        ┆ 11212.227697 ┆ 46.717615 ┆ 240        │\n",
            "│ D        ┆ 12532.298765 ┆ 51.573246 ┆ 243        │\n",
            "└──────────┴──────────────┴───────────┴────────────┘\n"
          ]
        },
        {
          "output_type": "stream",
          "name": "stderr",
          "text": [
            "<ipython-input-62-3427ddf6c96a>:1: DeprecationWarning: `groupby` is deprecated. It has been renamed to `group_by`.\n",
            "  grouped_summary = df.groupby(\"Category\").agg([\n"
          ]
        }
      ]
    },
    {
      "cell_type": "markdown",
      "source": [
        "Ejemplo: Agrupar y Aplicar Múltiples Agregaciones en una Sola Pasada\n",
        "\n",
        "Agruparemos por la columna \"Category\" y aplicaremos múltiples agregaciones (suma y media) a varias columnas (\"Num1\", \"Num2\")."
      ],
      "metadata": {
        "id": "kJoyUXK6yjwg"
      }
    },
    {
      "cell_type": "code",
      "source": [
        "multiple_aggregations = df.groupby(\"Category\").agg([\n",
        "    pl.col(\"Num1\").sum().alias(\"Sum_Num1\"),\n",
        "    pl.col(\"Num1\").mean().alias(\"Mean_Num1\"),\n",
        "    pl.col(\"Num2\").sum().alias(\"Sum_Num2\"),\n",
        "    pl.col(\"Num2\").mean().alias(\"Mean_Num2\")\n",
        "])\n",
        "print(multiple_aggregations)"
      ],
      "metadata": {
        "colab": {
          "base_uri": "https://localhost:8080/"
        },
        "id": "2ei-3UpXyRk2",
        "outputId": "056b6bce-6141-4978-e55f-400154aeff7d"
      },
      "execution_count": 63,
      "outputs": [
        {
          "output_type": "stream",
          "name": "stdout",
          "text": [
            "shape: (4, 5)\n",
            "┌──────────┬──────────────┬───────────┬────────────┬───────────┐\n",
            "│ Category ┆ Sum_Num1     ┆ Mean_Num1 ┆ Sum_Num2   ┆ Mean_Num2 │\n",
            "│ ---      ┆ ---          ┆ ---       ┆ ---        ┆ ---       │\n",
            "│ str      ┆ f64          ┆ f64       ┆ f64        ┆ f64       │\n",
            "╞══════════╪══════════════╪═══════════╪════════════╪═══════════╡\n",
            "│ B        ┆ 11212.227697 ┆ 46.717615 ┆ -2.320906  ┆ -0.00967  │\n",
            "│ C        ┆ 14099.390982 ┆ 50.535452 ┆ -13.600111 ┆ -0.048746 │\n",
            "│ D        ┆ 12532.298765 ┆ 51.573246 ┆ -12.242603 ┆ -0.050381 │\n",
            "│ A        ┆ 11837.4729   ┆ 49.737281 ┆ -0.171865  ┆ -0.000722 │\n",
            "└──────────┴──────────────┴───────────┴────────────┴───────────┘\n"
          ]
        },
        {
          "output_type": "stream",
          "name": "stderr",
          "text": [
            "<ipython-input-63-fcc39d6e0486>:1: DeprecationWarning: `groupby` is deprecated. It has been renamed to `group_by`.\n",
            "  multiple_aggregations = df.groupby(\"Category\").agg([\n"
          ]
        }
      ]
    },
    {
      "cell_type": "markdown",
      "source": [
        "Ejemplo: Realizar Agregaciones Condicionales Basadas en Valores de Otra Columna\n",
        "\n",
        "Para este ejemplo, agruparemos por \"Category\" y calcularemos la suma de \"Num1\" solo para aquellos valores de \"Num2\" que sean mayores que 0."
      ],
      "metadata": {
        "id": "Hnc9H3brynOz"
      }
    },
    {
      "cell_type": "code",
      "source": [
        "conditional_aggregation = df.groupby(\"Category\").agg([\n",
        "    pl.when(pl.col(\"Num2\") > 0).then(pl.col(\"Num1\")).sum().alias(\"Conditional_Sum_Num1\")\n",
        "])\n",
        "print(conditional_aggregation)"
      ],
      "metadata": {
        "colab": {
          "base_uri": "https://localhost:8080/"
        },
        "id": "-5onGq2pyW3o",
        "outputId": "8e9948aa-b31a-433c-b907-5152254e0503"
      },
      "execution_count": 64,
      "outputs": [
        {
          "output_type": "stream",
          "name": "stdout",
          "text": [
            "shape: (4, 2)\n",
            "┌──────────┬──────────────────────┐\n",
            "│ Category ┆ Conditional_Sum_Num1 │\n",
            "│ ---      ┆ ---                  │\n",
            "│ str      ┆ f64                  │\n",
            "╞══════════╪══════════════════════╡\n",
            "│ A        ┆ 6242.098635          │\n",
            "│ B        ┆ 4905.767514          │\n",
            "│ C        ┆ 6933.433809          │\n",
            "│ D        ┆ 5971.785662          │\n",
            "└──────────┴──────────────────────┘\n"
          ]
        },
        {
          "output_type": "stream",
          "name": "stderr",
          "text": [
            "<ipython-input-64-3d213d6d07bb>:1: DeprecationWarning: `groupby` is deprecated. It has been renamed to `group_by`.\n",
            "  conditional_aggregation = df.groupby(\"Category\").agg([\n"
          ]
        }
      ]
    },
    {
      "cell_type": "markdown",
      "source": [
        "Ejemplo: Combinar Selección, Filtrado y Agregación\n",
        "\n",
        "Imagina que queremos calcular la media de la columna \"Num1\" para los registros donde \"Num3\" sea mayor que 50, y además, solo para la categoría \"B\" en la columna \"Category\"."
      ],
      "metadata": {
        "id": "KZZw9Ppcy9NS"
      }
    },
    {
      "cell_type": "code",
      "source": [
        "# Primero, filtramos por la condición específica, luego seleccionamos la columna de interés, y finalmente calculamos la media.\n",
        "mean_num1_for_category_B_and_num3_gt_50 = df.filter(\n",
        "    (pl.col(\"Category\") == \"B\") & (pl.col(\"Num3\") > 50)\n",
        ").select(\n",
        "    pl.mean(\"Num1\")\n",
        ")\n",
        "\n",
        "print(mean_num1_for_category_B_and_num3_gt_50)"
      ],
      "metadata": {
        "colab": {
          "base_uri": "https://localhost:8080/"
        },
        "id": "p6HKCW0Wy37_",
        "outputId": "74b74540-d087-45bb-e291-566cb27fbcef"
      },
      "execution_count": 65,
      "outputs": [
        {
          "output_type": "stream",
          "name": "stdout",
          "text": [
            "shape: (1, 1)\n",
            "┌───────────┐\n",
            "│ Num1      │\n",
            "│ ---       │\n",
            "│ f64       │\n",
            "╞═══════════╡\n",
            "│ 48.497906 │\n",
            "└───────────┘\n"
          ]
        }
      ]
    },
    {
      "cell_type": "markdown",
      "source": [
        "Ejemplo: Uso de Expresiones para Crear Consultas Encadenadas Eficientes\n",
        "\n",
        "Supongamos que queremos agregar una columna que indique si \"Num2\" está por encima de su media global y luego calcular la suma de \"Num1\" solo para esos casos, todo en una sola pasada."
      ],
      "metadata": {
        "id": "rmSwXYCEzHRo"
      }
    },
    {
      "cell_type": "code",
      "source": [
        "# Añadimos una columna indicadora para Num2 > mean(Num2), luego filtramos por esa condición y calculamos la suma de Num1.\n",
        "sum_num1_where_num2_above_mean = df.with_columns(\n",
        "    (pl.col(\"Num2\") > pl.mean(\"Num2\")).alias(\"Num2_above_mean\")\n",
        ").filter(\n",
        "    pl.col(\"Num2_above_mean\")\n",
        ").select(\n",
        "    pl.sum(\"Num1\")\n",
        ")\n",
        "\n",
        "print(sum_num1_where_num2_above_mean)"
      ],
      "metadata": {
        "colab": {
          "base_uri": "https://localhost:8080/"
        },
        "id": "q_fGAizay_Xk",
        "outputId": "99e524f1-d5b0-4ac0-c89d-172d5fce4d1d"
      },
      "execution_count": 67,
      "outputs": [
        {
          "output_type": "stream",
          "name": "stdout",
          "text": [
            "shape: (1, 1)\n",
            "┌──────────────┐\n",
            "│ Num1         │\n",
            "│ ---          │\n",
            "│ f64          │\n",
            "╞══════════════╡\n",
            "│ 24757.667843 │\n",
            "└──────────────┘\n"
          ]
        }
      ]
    },
    {
      "cell_type": "markdown",
      "source": [
        "# JOINS"
      ],
      "metadata": {
        "id": "RfLc2LD_z2m3"
      }
    },
    {
      "cell_type": "code",
      "source": [
        "import polars as pl\n",
        "\n",
        "# DataFrame 1\n",
        "df1 = pl.DataFrame({\n",
        "    \"id\": [1, 2, 3, 4],\n",
        "    \"value_df1\": [\"A\", \"B\", \"C\", \"D\"]\n",
        "})\n",
        "\n",
        "# DataFrame 2\n",
        "df2 = pl.DataFrame({\n",
        "    \"id\": [3, 4, 5, 6],\n",
        "    \"value_df2\": [\"E\", \"F\", \"G\", \"H\"]\n",
        "})"
      ],
      "metadata": {
        "id": "twNXIpWJzhsT"
      },
      "execution_count": 68,
      "outputs": []
    },
    {
      "cell_type": "markdown",
      "source": [
        "Ejemplo: Inner Join\n",
        "\n",
        "El inner join devuelve las filas que tienen claves coincidentes en ambos DataFrames."
      ],
      "metadata": {
        "id": "kDZJO8jj0KuW"
      }
    },
    {
      "cell_type": "code",
      "source": [
        "inner_joined_df = df1.join(df2, on=\"id\", how=\"inner\")\n",
        "print(inner_joined_df)"
      ],
      "metadata": {
        "colab": {
          "base_uri": "https://localhost:8080/"
        },
        "id": "yVLaB7auzlJb",
        "outputId": "e8eae777-a48f-48d3-d9d8-694f554872e6"
      },
      "execution_count": 69,
      "outputs": [
        {
          "output_type": "stream",
          "name": "stdout",
          "text": [
            "shape: (2, 3)\n",
            "┌─────┬───────────┬───────────┐\n",
            "│ id  ┆ value_df1 ┆ value_df2 │\n",
            "│ --- ┆ ---       ┆ ---       │\n",
            "│ i64 ┆ str       ┆ str       │\n",
            "╞═════╪═══════════╪═══════════╡\n",
            "│ 3   ┆ C         ┆ E         │\n",
            "│ 4   ┆ D         ┆ F         │\n",
            "└─────┴───────────┴───────────┘\n"
          ]
        }
      ]
    },
    {
      "cell_type": "markdown",
      "source": [
        "Ejemplo: Left Join\n",
        "\n",
        "El left join devuelve todas las filas del DataFrame izquierdo y las filas coincidentes del DataFrame derecho. Las filas del DataFrame izquierdo que no tienen coincidencias en el DataFrame derecho tienen valores null en las columnas del DataFrame derecho."
      ],
      "metadata": {
        "id": "RZJbFU7O0NKd"
      }
    },
    {
      "cell_type": "code",
      "source": [
        "left_joined_df = df1.join(df2, on=\"id\", how=\"left\")\n",
        "print(left_joined_df)"
      ],
      "metadata": {
        "colab": {
          "base_uri": "https://localhost:8080/"
        },
        "id": "soT_YkHIzmi8",
        "outputId": "4731c193-fe47-4525-a457-d5ee48805988"
      },
      "execution_count": 70,
      "outputs": [
        {
          "output_type": "stream",
          "name": "stdout",
          "text": [
            "shape: (4, 3)\n",
            "┌─────┬───────────┬───────────┐\n",
            "│ id  ┆ value_df1 ┆ value_df2 │\n",
            "│ --- ┆ ---       ┆ ---       │\n",
            "│ i64 ┆ str       ┆ str       │\n",
            "╞═════╪═══════════╪═══════════╡\n",
            "│ 1   ┆ A         ┆ null      │\n",
            "│ 2   ┆ B         ┆ null      │\n",
            "│ 3   ┆ C         ┆ E         │\n",
            "│ 4   ┆ D         ┆ F         │\n",
            "└─────┴───────────┴───────────┘\n"
          ]
        }
      ]
    },
    {
      "cell_type": "markdown",
      "source": [
        "Simulación de Right Join\n",
        "\n",
        "Dado que Polars no tiene un \"right join\" directo, invertimos el orden de los DataFrames y usamos un \"left join\"."
      ],
      "metadata": {
        "id": "kIk34DtB0byg"
      }
    },
    {
      "cell_type": "code",
      "source": [
        "# Simulación de Right Join invirtiendo el orden y usando un left join\n",
        "right_joined_df = df2.join(df1, on=\"id\", how=\"left\")\n",
        "print(right_joined_df)"
      ],
      "metadata": {
        "colab": {
          "base_uri": "https://localhost:8080/"
        },
        "id": "a6QfTKFpzqDW",
        "outputId": "ba8d55cb-b388-4b0f-f09d-bc393e331635"
      },
      "execution_count": 73,
      "outputs": [
        {
          "output_type": "stream",
          "name": "stdout",
          "text": [
            "shape: (4, 3)\n",
            "┌─────┬───────────┬───────────┐\n",
            "│ id  ┆ value_df2 ┆ value_df1 │\n",
            "│ --- ┆ ---       ┆ ---       │\n",
            "│ i64 ┆ str       ┆ str       │\n",
            "╞═════╪═══════════╪═══════════╡\n",
            "│ 3   ┆ E         ┆ C         │\n",
            "│ 4   ┆ F         ┆ D         │\n",
            "│ 5   ┆ G         ┆ null      │\n",
            "│ 6   ┆ H         ┆ null      │\n",
            "└─────┴───────────┴───────────┘\n"
          ]
        }
      ]
    },
    {
      "cell_type": "markdown",
      "source": [
        "Ejemplo: Outer Join\n",
        "\n",
        "El outer join devuelve todas las filas de ambos DataFrames, con filas coincidentes de ambos lados donde estén disponibles. Si no hay coincidencia, el lado correspondiente tendrá valores null."
      ],
      "metadata": {
        "id": "otVOuYul0f1k"
      }
    },
    {
      "cell_type": "code",
      "source": [
        "outer_joined_df = df1.join(df2, on=\"id\", how=\"outer\")\n",
        "print(outer_joined_df)"
      ],
      "metadata": {
        "colab": {
          "base_uri": "https://localhost:8080/"
        },
        "id": "YUiQ56610ld_",
        "outputId": "498503d3-83f5-4ed5-ff36-8a4a4742c478"
      },
      "execution_count": 74,
      "outputs": [
        {
          "output_type": "stream",
          "name": "stdout",
          "text": [
            "shape: (6, 4)\n",
            "┌──────┬───────────┬──────────┬───────────┐\n",
            "│ id   ┆ value_df1 ┆ id_right ┆ value_df2 │\n",
            "│ ---  ┆ ---       ┆ ---      ┆ ---       │\n",
            "│ i64  ┆ str       ┆ i64      ┆ str       │\n",
            "╞══════╪═══════════╪══════════╪═══════════╡\n",
            "│ 3    ┆ C         ┆ 3        ┆ E         │\n",
            "│ 4    ┆ D         ┆ 4        ┆ F         │\n",
            "│ null ┆ null      ┆ 5        ┆ G         │\n",
            "│ null ┆ null      ┆ 6        ┆ H         │\n",
            "│ 2    ┆ B         ┆ null     ┆ null      │\n",
            "│ 1    ┆ A         ┆ null     ┆ null      │\n",
            "└──────┴───────────┴──────────┴───────────┘\n"
          ]
        }
      ]
    },
    {
      "cell_type": "markdown",
      "source": [
        "Ejemplo: Utilizar Joins para Enriquecer un DataFrame con Información de Otro\n",
        "\n",
        "Supongamos que queremos enriquecer df1 con la información de df2 basándonos en la columna \"id\". Podemos usar un left join para asegurarnos de conservar todas las filas de df1 mientras traemos los datos correspondientes de df2."
      ],
      "metadata": {
        "id": "r57MUGg80nOx"
      }
    },
    {
      "cell_type": "code",
      "source": [
        "enriched_df = df1.join(df2, on=\"id\", how=\"left\")\n",
        "print(enriched_df)"
      ],
      "metadata": {
        "colab": {
          "base_uri": "https://localhost:8080/"
        },
        "id": "RwbXkdOQzxTg",
        "outputId": "1b1cb46f-89ec-4083-9eaa-63091f57fbe1"
      },
      "execution_count": 72,
      "outputs": [
        {
          "output_type": "stream",
          "name": "stdout",
          "text": [
            "shape: (4, 3)\n",
            "┌─────┬───────────┬───────────┐\n",
            "│ id  ┆ value_df1 ┆ value_df2 │\n",
            "│ --- ┆ ---       ┆ ---       │\n",
            "│ i64 ┆ str       ┆ str       │\n",
            "╞═════╪═══════════╪═══════════╡\n",
            "│ 1   ┆ A         ┆ null      │\n",
            "│ 2   ┆ B         ┆ null      │\n",
            "│ 3   ┆ C         ┆ E         │\n",
            "│ 4   ┆ D         ┆ F         │\n",
            "└─────┴───────────┴───────────┘\n"
          ]
        }
      ]
    }
  ],
  "metadata": {
    "colab": {
      "provenance": [],
      "authorship_tag": "ABX9TyNUxJ5YWSi+qasv6TAt8t5H",
      "include_colab_link": true
    },
    "kernelspec": {
      "display_name": "Python 3",
      "name": "python3"
    },
    "language_info": {
      "name": "python"
    }
  },
  "nbformat": 4,
  "nbformat_minor": 0
}